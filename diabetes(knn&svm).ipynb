{
  "nbformat": 4,
  "nbformat_minor": 0,
  "metadata": {
    "colab": {
      "provenance": [],
      "authorship_tag": "ABX9TyPcfqoC+RLQ7hvHSGbivRrE",
      "include_colab_link": true
    },
    "kernelspec": {
      "name": "python3",
      "display_name": "Python 3"
    },
    "language_info": {
      "name": "python"
    }
  },
  "cells": [
    {
      "cell_type": "markdown",
      "metadata": {
        "id": "view-in-github",
        "colab_type": "text"
      },
      "source": [
        "<a href=\"https://colab.research.google.com/github/Sharanya5056/Samsung_Innovation_Campus/blob/main/diabetes(knn%26svm).ipynb\" target=\"_parent\"><img src=\"https://colab.research.google.com/assets/colab-badge.svg\" alt=\"Open In Colab\"/></a>"
      ]
    },
    {
      "cell_type": "code",
      "execution_count": null,
      "metadata": {
        "id": "wmjrTyegz6Qg"
      },
      "outputs": [],
      "source": []
    },
    {
      "cell_type": "code",
      "metadata": {
        "colab": {
          "base_uri": "https://localhost:8080/"
        },
        "id": "4332e4d4",
        "outputId": "26ecf641-b9ff-447b-c7ff-526b34dd9063"
      },
      "source": [
        "from sklearn.datasets import load_diabetes\n",
        "diabetes = load_diabetes()\n",
        "print(diabetes.DESCR)"
      ],
      "execution_count": 1,
      "outputs": [
        {
          "output_type": "stream",
          "name": "stdout",
          "text": [
            ".. _diabetes_dataset:\n",
            "\n",
            "Diabetes dataset\n",
            "----------------\n",
            "\n",
            "Ten baseline variables, age, sex, body mass index, average blood\n",
            "pressure, and six blood serum measurements were obtained for each of n =\n",
            "442 diabetes patients, as well as the response of interest, a\n",
            "quantitative measure of disease progression one year after baseline.\n",
            "\n",
            "**Data Set Characteristics:**\n",
            "\n",
            ":Number of Instances: 442\n",
            "\n",
            ":Number of Attributes: First 10 columns are numeric predictive values\n",
            "\n",
            ":Target: Column 11 is a quantitative measure of disease progression one year after baseline\n",
            "\n",
            ":Attribute Information:\n",
            "    - age     age in years\n",
            "    - sex\n",
            "    - bmi     body mass index\n",
            "    - bp      average blood pressure\n",
            "    - s1      tc, total serum cholesterol\n",
            "    - s2      ldl, low-density lipoproteins\n",
            "    - s3      hdl, high-density lipoproteins\n",
            "    - s4      tch, total cholesterol / HDL\n",
            "    - s5      ltg, possibly log of serum triglycerides level\n",
            "    - s6      glu, blood sugar level\n",
            "\n",
            "Note: Each of these 10 feature variables have been mean centered and scaled by the standard deviation times the square root of `n_samples` (i.e. the sum of squares of each column totals 1).\n",
            "\n",
            "Source URL:\n",
            "https://www4.stat.ncsu.edu/~boos/var.select/diabetes.html\n",
            "\n",
            "For more information see:\n",
            "Bradley Efron, Trevor Hastie, Iain Johnstone and Robert Tibshirani (2004) \"Least Angle Regression,\" Annals of Statistics (with discussion), 407-499.\n",
            "(https://web.stanford.edu/~hastie/Papers/LARS/LeastAngle_2002.pdf)\n",
            "\n"
          ]
        }
      ]
    },
    {
      "cell_type": "code",
      "source": [
        "from sklearn.datasets import load_diabetes\n",
        "diabetes = load_diabetes()\n",
        "\n",
        "X = diabetes.data\n",
        "\n",
        "y = diabetes.target"
      ],
      "metadata": {
        "id": "1Pu1Wbp203yw"
      },
      "execution_count": 4,
      "outputs": []
    },
    {
      "cell_type": "code",
      "source": [
        "from sklearn.model_selection import train_test_split\n",
        "\n",
        "X_train, X_test, y_train, y_test = train_test_split(X, y, test_size=0.3, random_state=42)"
      ],
      "metadata": {
        "id": "LRt0dojR04qC"
      },
      "execution_count": 7,
      "outputs": []
    },
    {
      "cell_type": "code",
      "source": [
        "from sklearn.preprocessing import StandardScaler\n",
        "\n",
        "scaler = StandardScaler()\n",
        "\n",
        "X_train_scaled = scaler.fit_transform(X_train)\n",
        "\n",
        "X_test_scaled = scaler.transform(X_test)"
      ],
      "metadata": {
        "id": "wOpmN0YP1JNk"
      },
      "execution_count": 9,
      "outputs": []
    },
    {
      "cell_type": "code",
      "source": [
        "import time\n",
        "from sklearn.neighbors import KNeighborsClassifier\n",
        "\n",
        "start_time_knn = time.time()\n",
        "\n",
        "knn_model = KNeighborsClassifier(n_neighbors=5)\n",
        "\n",
        "knn_model.fit(X_train_scaled, y_train)\n",
        "\n",
        "end_time_knn = time.time()"
      ],
      "metadata": {
        "id": "RUuW0rTA1Vsf"
      },
      "execution_count": 11,
      "outputs": []
    },
    {
      "cell_type": "code",
      "source": [
        "from sklearn.metrics import mean_squared_error, r2_score\n",
        "\n",
        "y_pred_knn = knn_model.predict(X_test_scaled)\n",
        "\n",
        "mse_knn = mean_squared_error(y_test, y_pred_knn)\n",
        "r2_knn = r2_score(y_test, y_pred_knn)\n",
        "\n",
        "training_time_knn = end_time_knn - start_time_knn\n",
        "\n",
        "print(f\"Mean Squared Error (KNN): {mse_knn}\")\n",
        "print(f\"R-squared (KNN): {r2_knn}\")\n",
        "print(f\"Training Time (KNN): {training_time_knn} seconds\")"
      ],
      "metadata": {
        "colab": {
          "base_uri": "https://localhost:8080/"
        },
        "id": "azp7uCPt1dYR",
        "outputId": "955b0acd-ff55-4506-f075-ae80a89fef38"
      },
      "execution_count": 14,
      "outputs": [
        {
          "output_type": "stream",
          "name": "stdout",
          "text": [
            "Mean Squared Error (KNN): 8127.7593984962405\n",
            "R-squared (KNN): -0.5056124543104557\n",
            "Training Time (KNN): 0.0036118030548095703 seconds\n"
          ]
        }
      ]
    },
    {
      "cell_type": "code",
      "source": [
        "print(\"=== K-Nearest Neighbors (KNN) ===\")\n",
        "print(f\"Training Time: {training_time_knn:.4f} seconds\")"
      ],
      "metadata": {
        "colab": {
          "base_uri": "https://localhost:8080/"
        },
        "id": "giIW1QSX1lA6",
        "outputId": "3976c6d3-dc78-40c0-cf65-e59750ec8425"
      },
      "execution_count": 16,
      "outputs": [
        {
          "output_type": "stream",
          "name": "stdout",
          "text": [
            "=== K-Nearest Neighbors (KNN) ===\n",
            "Training Time: 0.0036 seconds\n"
          ]
        }
      ]
    },
    {
      "cell_type": "code",
      "source": [
        "import time\n",
        "from sklearn.svm import SVC\n",
        "\n",
        "start_time_svm = time.time()\n",
        "svm_model = SVC(kernel='rbf',\n",
        "                C=1.0,\n",
        "                gamma='scale',\n",
        "                random_state=42)\n",
        "\n",
        "svm_model.fit(X_train_scaled, y_train)\n",
        "\n",
        "end_time_svm = time.time()"
      ],
      "metadata": {
        "id": "pTBig0lX10qr"
      },
      "execution_count": 18,
      "outputs": []
    },
    {
      "cell_type": "code",
      "source": [
        "from sklearn.metrics import mean_squared_error, r2_score\n",
        "\n",
        "y_pred_svm = svm_model.predict(X_test_scaled)\n",
        "\n",
        "mse_svm = mean_squared_error(y_test, y_pred_svm)\n",
        "r2_svm = r2_score(y_test, y_pred_svm)\n",
        "\n",
        "training_time_svm = end_time_svm - start_time_svm\n",
        "\n",
        "print(f\"Mean Squared Error (SVM): {mse_svm}\")\n",
        "print(f\"R-squared (SVM): {r2_svm}\")\n",
        "print(f\"Training Time (SVM): {training_time_svm} seconds\")"
      ],
      "metadata": {
        "colab": {
          "base_uri": "https://localhost:8080/"
        },
        "id": "9M_bBk654Vo0",
        "outputId": "999f4dab-8fd5-4de2-fcec-cc22dfaf71a8"
      },
      "execution_count": 20,
      "outputs": [
        {
          "output_type": "stream",
          "name": "stdout",
          "text": [
            "Mean Squared Error (SVM): 6193.368421052632\n",
            "R-squared (SVM): -0.14727960950654584\n",
            "Training Time (SVM): 0.0825345516204834 seconds\n"
          ]
        }
      ]
    },
    {
      "cell_type": "code",
      "source": [
        "print(\"\\n=== Support Vector Machine (SVM) ===\")\n",
        "print(f\"Training Time: {training_time_svm:.4f} seconds\")"
      ],
      "metadata": {
        "colab": {
          "base_uri": "https://localhost:8080/"
        },
        "id": "Lyd45WoL4WHD",
        "outputId": "2b1e9030-3a0b-42ef-e179-a12994aa7000"
      },
      "execution_count": 22,
      "outputs": [
        {
          "output_type": "stream",
          "name": "stdout",
          "text": [
            "\n",
            "=== Support Vector Machine (SVM) ===\n",
            "Training Time: 0.0825 seconds\n"
          ]
        }
      ]
    },
    {
      "cell_type": "code",
      "source": [],
      "metadata": {
        "id": "Mun2ADZg4f6d"
      },
      "execution_count": null,
      "outputs": []
    }
  ]
}